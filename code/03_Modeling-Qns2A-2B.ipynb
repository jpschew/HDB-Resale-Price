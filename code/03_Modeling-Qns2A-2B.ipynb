{
 "cells": [
  {
   "cell_type": "markdown",
   "id": "50a4e11c",
   "metadata": {},
   "source": [
    "# Part 3. Modeling and Evaluation I"
   ]
  },
  {
   "cell_type": "markdown",
   "id": "f35d0bed",
   "metadata": {},
   "source": [
    "## Import basic libraries and load data\n",
    "\n",
    "This section import the basic python libraries for usage as well as loading the dataset from the previous notebook."
   ]
  },
  {
   "cell_type": "code",
   "execution_count": 1,
   "id": "013ea338",
   "metadata": {},
   "outputs": [],
   "source": [
    "# imports\n",
    "import pandas as pd\n",
    "import numpy as np\n",
    "import matplotlib.pyplot as plt\n",
    "import seaborn as sns"
   ]
  },
  {
   "cell_type": "code",
   "execution_count": 2,
   "id": "a81bb4d7",
   "metadata": {},
   "outputs": [],
   "source": [
    "pd.set_option(\"display.max_rows\", None)\n",
    "pd.set_option(\"display.max_columns\", None)"
   ]
  },
  {
   "cell_type": "code",
   "execution_count": 3,
   "id": "50206f4d",
   "metadata": {},
   "outputs": [],
   "source": [
    "data_df = pd.read_csv('./datasets/merge_data_with_amenities_final_baseyear2014.csv')"
   ]
  },
  {
   "cell_type": "code",
   "execution_count": 4,
   "id": "c95be1b1",
   "metadata": {},
   "outputs": [
    {
     "name": "stdout",
     "output_type": "stream",
     "text": [
      "<class 'pandas.core.frame.DataFrame'>\n",
      "RangeIndex: 210180 entries, 0 to 210179\n",
      "Data columns (total 24 columns):\n",
      " #   Column                   Non-Null Count   Dtype  \n",
      "---  ------                   --------------   -----  \n",
      " 0   date                     210180 non-null  object \n",
      " 1   town                     210180 non-null  object \n",
      " 2   flat_type                210180 non-null  object \n",
      " 3   block                    210180 non-null  object \n",
      " 4   street_name              210180 non-null  object \n",
      " 5   storey_range             210180 non-null  object \n",
      " 6   floor_area_sqm           210180 non-null  float64\n",
      " 7   flat_model               210180 non-null  object \n",
      " 8   lease_commence_date      210180 non-null  int64  \n",
      " 9   resale_price             210180 non-null  float64\n",
      " 10  year                     210180 non-null  int64  \n",
      " 11  month                    210180 non-null  int64  \n",
      " 12  longitude                210180 non-null  float64\n",
      " 13  latitude                 210180 non-null  float64\n",
      " 14  nearest_dist_to_mrt      210180 non-null  float64\n",
      " 15  nearest_mrt              210180 non-null  object \n",
      " 16  nearest_dist_to_pri_sch  210180 non-null  float64\n",
      " 17  nearest_pri_sch          210180 non-null  object \n",
      " 18  nearest_dist_to_sec_sch  210180 non-null  float64\n",
      " 19  nearest_sec_sch          210180 non-null  object \n",
      " 20  age                      210180 non-null  int64  \n",
      " 21  avg_floor                210180 non-null  int64  \n",
      " 22  inflated_rate            210180 non-null  float64\n",
      " 23  inflated_resale_price    210180 non-null  float64\n",
      "dtypes: float64(9), int64(5), object(10)\n",
      "memory usage: 38.5+ MB\n"
     ]
    }
   ],
   "source": [
    "data_df.info()"
   ]
  },
  {
   "cell_type": "code",
   "execution_count": 5,
   "id": "9f06466a",
   "metadata": {},
   "outputs": [],
   "source": [
    "data_df['date'] = pd.to_datetime(data_df['date'])"
   ]
  },
  {
   "cell_type": "code",
   "execution_count": 6,
   "id": "5eae0875",
   "metadata": {},
   "outputs": [
    {
     "name": "stdout",
     "output_type": "stream",
     "text": [
      "<class 'pandas.core.frame.DataFrame'>\n",
      "RangeIndex: 210180 entries, 0 to 210179\n",
      "Data columns (total 24 columns):\n",
      " #   Column                   Non-Null Count   Dtype         \n",
      "---  ------                   --------------   -----         \n",
      " 0   date                     210180 non-null  datetime64[ns]\n",
      " 1   town                     210180 non-null  object        \n",
      " 2   flat_type                210180 non-null  object        \n",
      " 3   block                    210180 non-null  object        \n",
      " 4   street_name              210180 non-null  object        \n",
      " 5   storey_range             210180 non-null  object        \n",
      " 6   floor_area_sqm           210180 non-null  float64       \n",
      " 7   flat_model               210180 non-null  object        \n",
      " 8   lease_commence_date      210180 non-null  int64         \n",
      " 9   resale_price             210180 non-null  float64       \n",
      " 10  year                     210180 non-null  int64         \n",
      " 11  month                    210180 non-null  int64         \n",
      " 12  longitude                210180 non-null  float64       \n",
      " 13  latitude                 210180 non-null  float64       \n",
      " 14  nearest_dist_to_mrt      210180 non-null  float64       \n",
      " 15  nearest_mrt              210180 non-null  object        \n",
      " 16  nearest_dist_to_pri_sch  210180 non-null  float64       \n",
      " 17  nearest_pri_sch          210180 non-null  object        \n",
      " 18  nearest_dist_to_sec_sch  210180 non-null  float64       \n",
      " 19  nearest_sec_sch          210180 non-null  object        \n",
      " 20  age                      210180 non-null  int64         \n",
      " 21  avg_floor                210180 non-null  int64         \n",
      " 22  inflated_rate            210180 non-null  float64       \n",
      " 23  inflated_resale_price    210180 non-null  float64       \n",
      "dtypes: datetime64[ns](1), float64(9), int64(5), object(9)\n",
      "memory usage: 38.5+ MB\n"
     ]
    }
   ],
   "source": [
    "data_df.info()"
   ]
  },
  {
   "cell_type": "code",
   "execution_count": 7,
   "id": "9aeeca33",
   "metadata": {},
   "outputs": [
    {
     "data": {
      "text/plain": [
       "date                       0\n",
       "town                       0\n",
       "flat_type                  0\n",
       "block                      0\n",
       "street_name                0\n",
       "storey_range               0\n",
       "floor_area_sqm             0\n",
       "flat_model                 0\n",
       "lease_commence_date        0\n",
       "resale_price               0\n",
       "year                       0\n",
       "month                      0\n",
       "longitude                  0\n",
       "latitude                   0\n",
       "nearest_dist_to_mrt        0\n",
       "nearest_mrt                0\n",
       "nearest_dist_to_pri_sch    0\n",
       "nearest_pri_sch            0\n",
       "nearest_dist_to_sec_sch    0\n",
       "nearest_sec_sch            0\n",
       "age                        0\n",
       "avg_floor                  0\n",
       "inflated_rate              0\n",
       "inflated_resale_price      0\n",
       "dtype: int64"
      ]
     },
     "execution_count": 7,
     "metadata": {},
     "output_type": "execute_result"
    }
   ],
   "source": [
    "data_df.isna().sum()"
   ]
  },
  {
   "cell_type": "markdown",
   "id": "b42fd927",
   "metadata": {},
   "source": [
    "## Modeling and Evalution\n",
    "This section implements 3 regression models namely Linear Regression, Ridge and Lasso Regression to predict the resale price in 2014 given a number of features/characteristics. The features used to model were given in the assignment which were the flat age, flat type and the town. At the end of this section, one of the models will be chosen for the prediction of the resale price."
   ]
  },
  {
   "cell_type": "code",
   "execution_count": 8,
   "id": "f7892c7b",
   "metadata": {},
   "outputs": [],
   "source": [
    "from sklearn.compose import ColumnTransformer\n",
    "from sklearn.linear_model import LinearRegression, RidgeCV, LassoCV #, ElasticNetCV\n",
    "from sklearn.pipeline import Pipeline\n",
    "from sklearn.preprocessing import StandardScaler, OneHotEncoder\n",
    "from sklearn.model_selection import train_test_split, cross_val_score #, GridSearchCV\n",
    "from sklearn import metrics"
   ]
  },
  {
   "cell_type": "code",
   "execution_count": 9,
   "id": "2b050f6b",
   "metadata": {},
   "outputs": [],
   "source": [
    "# cont_vars = ['floor_area_sqm', 'nearest_dist_to_mrt', 'nearest_dist_to_pri_sch', \\\n",
    "#              'nearest_dist_to_sec_sch', 'age', 'avg_floor']\n",
    "# nom_vars = ['town', 'flat_type', 'flat_model']\n",
    "cont_vars = ['age']\n",
    "nom_vars = ['town', 'flat_type']\n",
    "\n",
    "numeric_transformer = StandardScaler()\n",
    "categorical_transformer = OneHotEncoder(handle_unknown=\"ignore\")\n",
    "\n",
    "preprocessor = ColumnTransformer(\n",
    "    transformers=[\n",
    "        (\"num\", numeric_transformer, cont_vars),\n",
    "        (\"cat\", categorical_transformer, nom_vars),\n",
    "    ], remainder='passthrough'\n",
    ")"
   ]
  },
  {
   "cell_type": "code",
   "execution_count": 10,
   "id": "c15d2975",
   "metadata": {},
   "outputs": [],
   "source": [
    "X = data_df[cont_vars + nom_vars]\n",
    "y = data_df['inflated_resale_price']"
   ]
  },
  {
   "cell_type": "code",
   "execution_count": 11,
   "id": "55aa2c40",
   "metadata": {},
   "outputs": [
    {
     "data": {
      "text/html": [
       "<div>\n",
       "<style scoped>\n",
       "    .dataframe tbody tr th:only-of-type {\n",
       "        vertical-align: middle;\n",
       "    }\n",
       "\n",
       "    .dataframe tbody tr th {\n",
       "        vertical-align: top;\n",
       "    }\n",
       "\n",
       "    .dataframe thead th {\n",
       "        text-align: right;\n",
       "    }\n",
       "</style>\n",
       "<table border=\"1\" class=\"dataframe\">\n",
       "  <thead>\n",
       "    <tr style=\"text-align: right;\">\n",
       "      <th></th>\n",
       "      <th>age</th>\n",
       "      <th>town</th>\n",
       "      <th>flat_type</th>\n",
       "    </tr>\n",
       "  </thead>\n",
       "  <tbody>\n",
       "    <tr>\n",
       "      <th>0</th>\n",
       "      <td>26</td>\n",
       "      <td>ANG MO KIO</td>\n",
       "      <td>2 ROOM</td>\n",
       "    </tr>\n",
       "    <tr>\n",
       "      <th>1</th>\n",
       "      <td>32</td>\n",
       "      <td>ANG MO KIO</td>\n",
       "      <td>2 ROOM</td>\n",
       "    </tr>\n",
       "    <tr>\n",
       "      <th>2</th>\n",
       "      <td>32</td>\n",
       "      <td>ANG MO KIO</td>\n",
       "      <td>3 ROOM</td>\n",
       "    </tr>\n",
       "    <tr>\n",
       "      <th>3</th>\n",
       "      <td>28</td>\n",
       "      <td>ANG MO KIO</td>\n",
       "      <td>3 ROOM</td>\n",
       "    </tr>\n",
       "    <tr>\n",
       "      <th>4</th>\n",
       "      <td>32</td>\n",
       "      <td>ANG MO KIO</td>\n",
       "      <td>3 ROOM</td>\n",
       "    </tr>\n",
       "  </tbody>\n",
       "</table>\n",
       "</div>"
      ],
      "text/plain": [
       "   age        town flat_type\n",
       "0   26  ANG MO KIO    2 ROOM\n",
       "1   32  ANG MO KIO    2 ROOM\n",
       "2   32  ANG MO KIO    3 ROOM\n",
       "3   28  ANG MO KIO    3 ROOM\n",
       "4   32  ANG MO KIO    3 ROOM"
      ]
     },
     "execution_count": 11,
     "metadata": {},
     "output_type": "execute_result"
    }
   ],
   "source": [
    "X.head()"
   ]
  },
  {
   "cell_type": "code",
   "execution_count": 12,
   "id": "ee41063b",
   "metadata": {},
   "outputs": [
    {
     "data": {
      "text/plain": [
       "0    234899.33\n",
       "1    248993.29\n",
       "2    295973.15\n",
       "3    300671.14\n",
       "4    301610.74\n",
       "Name: inflated_resale_price, dtype: float64"
      ]
     },
     "execution_count": 12,
     "metadata": {},
     "output_type": "execute_result"
    }
   ],
   "source": [
    "y[:5]"
   ]
  },
  {
   "cell_type": "code",
   "execution_count": 13,
   "id": "a3257e7f",
   "metadata": {},
   "outputs": [
    {
     "data": {
      "text/plain": [
       "((210180, 3), (210180,))"
      ]
     },
     "execution_count": 13,
     "metadata": {},
     "output_type": "execute_result"
    }
   ],
   "source": [
    "X.shape, y.shape"
   ]
  },
  {
   "cell_type": "code",
   "execution_count": 14,
   "id": "9e19f8f8",
   "metadata": {},
   "outputs": [],
   "source": [
    "X_train, X_test, y_train, y_test = train_test_split(X, y, test_size=0.2, random_state=42)"
   ]
  },
  {
   "cell_type": "code",
   "execution_count": 15,
   "id": "43b46fc6",
   "metadata": {},
   "outputs": [
    {
     "name": "stdout",
     "output_type": "stream",
     "text": [
      "Time taken is 0.52 seconds\n"
     ]
    }
   ],
   "source": [
    "# time taken is 1 sec\n",
    "import time\n",
    "start = time.time()\n",
    "# Append classifier to preprocessing pipeline.\n",
    "# Now we have a full prediction pipeline.\n",
    "lr = Pipeline(\n",
    "    steps=[(\"preprocessor\", preprocessor), (\"classifier\", LinearRegression())]\n",
    ")\n",
    "\n",
    "\n",
    "lr.fit(X_train, y_train)\n",
    "end = time.time()\n",
    "lr_fit_time = end - start\n",
    "print('Time taken is %.2f seconds' % lr_fit_time)"
   ]
  },
  {
   "cell_type": "code",
   "execution_count": 16,
   "id": "7ac9daeb",
   "metadata": {},
   "outputs": [
    {
     "name": "stdout",
     "output_type": "stream",
     "text": [
      "Time taken is 1.81 seconds.\n"
     ]
    }
   ],
   "source": [
    "# time taken is 2 sec\n",
    "start = time.time()\n",
    "# cross validation with k-folds=5 for the lr model\n",
    "# using mean sq error as the metrics\n",
    "cross_val_score(\n",
    "            lr,\n",
    "            X_train,\n",
    "            y_train,\n",
    "            cv=5,\n",
    "            scoring='neg_mean_squared_error'\n",
    ").mean()\n",
    "end = time.time()\n",
    "print('Time taken is %.2f seconds.' % (end-start))"
   ]
  },
  {
   "cell_type": "code",
   "execution_count": 17,
   "id": "f87df053",
   "metadata": {},
   "outputs": [
    {
     "data": {
      "text/plain": [
       "array([ -60099.25269052,   33892.47429407,    5689.56094724,\n",
       "        115040.03844153,  -52623.56886858,  123283.69169144,\n",
       "       -111923.43100347,  213055.91405678,  189290.25050587,\n",
       "       -139287.26038026,   68206.2032143 ,   40053.61191775,\n",
       "        -55048.63982346,  -30319.8632251 , -108159.81578119,\n",
       "         79889.1867612 ,  163034.20485   ,  -73017.77899681,\n",
       "       -123005.93690811,  134031.90826896, -181934.89316783,\n",
       "       -131196.66708396,   10854.78799829,  -20465.69213735,\n",
       "         72818.08796511, -134733.96277135,  -87422.41076536,\n",
       "       -318107.86435606, -226981.26578872, -118484.47027457,\n",
       "         -3984.36701518,   93791.6231676 ,  217274.09858267,\n",
       "        356492.24568458])"
      ]
     },
     "execution_count": 17,
     "metadata": {},
     "output_type": "execute_result"
    }
   ],
   "source": [
    "# get the coefficient\n",
    "lr_coe_list = lr['classifier'].coef_\n",
    "lr_coe_list"
   ]
  },
  {
   "cell_type": "code",
   "execution_count": 18,
   "id": "e4da11f1",
   "metadata": {},
   "outputs": [
    {
     "data": {
      "text/plain": [
       "483134.09589991934"
      ]
     },
     "execution_count": 18,
     "metadata": {},
     "output_type": "execute_result"
    }
   ],
   "source": [
    "lr['classifier'].intercept_"
   ]
  },
  {
   "cell_type": "code",
   "execution_count": 19,
   "id": "da2c1000",
   "metadata": {},
   "outputs": [
    {
     "data": {
      "text/plain": [
       "['age']"
      ]
     },
     "execution_count": 19,
     "metadata": {},
     "output_type": "execute_result"
    }
   ],
   "source": [
    "lr['preprocessor'].transformers_[0][2]"
   ]
  },
  {
   "cell_type": "code",
   "execution_count": 20,
   "id": "28bdcacb",
   "metadata": {},
   "outputs": [
    {
     "data": {
      "text/plain": [
       "array(['town_ANG MO KIO', 'town_BEDOK', 'town_BISHAN', 'town_BUKIT BATOK',\n",
       "       'town_BUKIT MERAH', 'town_BUKIT PANJANG', 'town_BUKIT TIMAH',\n",
       "       'town_CENTRAL AREA', 'town_CHOA CHU KANG', 'town_CLEMENTI',\n",
       "       'town_GEYLANG', 'town_HOUGANG', 'town_JURONG EAST',\n",
       "       'town_JURONG WEST', 'town_KALLANG/WHAMPOA', 'town_MARINE PARADE',\n",
       "       'town_PASIR RIS', 'town_PUNGGOL', 'town_QUEENSTOWN',\n",
       "       'town_SEMBAWANG', 'town_SENGKANG', 'town_SERANGOON',\n",
       "       'town_TAMPINES', 'town_TOA PAYOH', 'town_WOODLANDS', 'town_YISHUN',\n",
       "       'flat_type_1 ROOM', 'flat_type_2 ROOM', 'flat_type_3 ROOM',\n",
       "       'flat_type_4 ROOM', 'flat_type_5 ROOM', 'flat_type_EXECUTIVE',\n",
       "       'flat_type_MULTI-GENERATION'], dtype=object)"
      ]
     },
     "execution_count": 20,
     "metadata": {},
     "output_type": "execute_result"
    }
   ],
   "source": [
    "lr['preprocessor'].transformers_[1][1].get_feature_names_out(nom_vars)"
   ]
  },
  {
   "cell_type": "code",
   "execution_count": 21,
   "id": "51861c97",
   "metadata": {},
   "outputs": [
    {
     "data": {
      "text/plain": [
       "['age',\n",
       " 'town_ANG MO KIO',\n",
       " 'town_BEDOK',\n",
       " 'town_BISHAN',\n",
       " 'town_BUKIT BATOK',\n",
       " 'town_BUKIT MERAH',\n",
       " 'town_BUKIT PANJANG',\n",
       " 'town_BUKIT TIMAH',\n",
       " 'town_CENTRAL AREA',\n",
       " 'town_CHOA CHU KANG',\n",
       " 'town_CLEMENTI',\n",
       " 'town_GEYLANG',\n",
       " 'town_HOUGANG',\n",
       " 'town_JURONG EAST',\n",
       " 'town_JURONG WEST',\n",
       " 'town_KALLANG/WHAMPOA',\n",
       " 'town_MARINE PARADE',\n",
       " 'town_PASIR RIS',\n",
       " 'town_PUNGGOL',\n",
       " 'town_QUEENSTOWN',\n",
       " 'town_SEMBAWANG',\n",
       " 'town_SENGKANG',\n",
       " 'town_SERANGOON',\n",
       " 'town_TAMPINES',\n",
       " 'town_TOA PAYOH',\n",
       " 'town_WOODLANDS',\n",
       " 'town_YISHUN',\n",
       " 'flat_type_1 ROOM',\n",
       " 'flat_type_2 ROOM',\n",
       " 'flat_type_3 ROOM',\n",
       " 'flat_type_4 ROOM',\n",
       " 'flat_type_5 ROOM',\n",
       " 'flat_type_EXECUTIVE',\n",
       " 'flat_type_MULTI-GENERATION']"
      ]
     },
     "execution_count": 21,
     "metadata": {},
     "output_type": "execute_result"
    }
   ],
   "source": [
    "# get features list\n",
    "features_list = lr['preprocessor'].transformers_[0][2] \\\n",
    "                + list(lr['preprocessor'].transformers_[1][1].get_feature_names_out(nom_vars))\n",
    "features_list"
   ]
  },
  {
   "cell_type": "code",
   "execution_count": 22,
   "id": "560b288e",
   "metadata": {},
   "outputs": [
    {
     "name": "stdout",
     "output_type": "stream",
     "text": [
      "Train RMSE: 67476.189\n",
      "Train R2 score: 0.776\n"
     ]
    }
   ],
   "source": [
    "# predict the sale price using the lr model for train set\n",
    "y_pred_train = lr.predict(X_train)\n",
    "# predict the sale price using the lr model for train set\n",
    "lr_rmse_train = metrics.mean_squared_error(y_pred_train, y_train)**0.5\n",
    "lr_r2_train = lr.score(X_train, y_train)\n",
    "print(\"Train RMSE: %.3f\" % lr_rmse_train)\n",
    "print(\"Train R2 score: %.3f\" % lr_r2_train)"
   ]
  },
  {
   "cell_type": "code",
   "execution_count": 23,
   "id": "cba5464e",
   "metadata": {},
   "outputs": [
    {
     "name": "stdout",
     "output_type": "stream",
     "text": [
      "Test RMSE: 67164.250\n",
      "Test R2 score: 0.777\n"
     ]
    }
   ],
   "source": [
    "# predict the sale price using the lr model for test set\n",
    "y_pred_test = lr.predict(X_test)\n",
    "# predict the sale price using the lr model for ttest set\n",
    "lr_rmse_test = metrics.mean_squared_error(y_pred_test, y_test)**0.5\n",
    "lr_r2_test = lr.score(X_test, y_test)\n",
    "print(\"Test RMSE: %.3f\" % lr_rmse_test)\n",
    "print(\"Test R2 score: %.3f\" % lr_r2_test)"
   ]
  },
  {
   "cell_type": "code",
   "execution_count": 24,
   "id": "4a493b62",
   "metadata": {},
   "outputs": [
    {
     "data": {
      "text/plain": [
       "[(356492.2456845817, 'flat_type_MULTI-GENERATION'),\n",
       " (217274.09858267242, 'flat_type_EXECUTIVE'),\n",
       " (213055.91405678075, 'town_BUKIT TIMAH'),\n",
       " (189290.25050586576, 'town_CENTRAL AREA'),\n",
       " (163034.20484999812, 'town_MARINE PARADE'),\n",
       " (134031.9082689563, 'town_QUEENSTOWN'),\n",
       " (123283.69169144362, 'town_BUKIT MERAH'),\n",
       " (115040.0384415315, 'town_BISHAN'),\n",
       " (93791.62316759542, 'flat_type_5 ROOM'),\n",
       " (79889.1867612046, 'town_KALLANG/WHAMPOA'),\n",
       " (72818.08796511393, 'town_TOA PAYOH'),\n",
       " (68206.20321429912, 'town_CLEMENTI'),\n",
       " (40053.61191775415, 'town_GEYLANG'),\n",
       " (33892.474294068255, 'town_ANG MO KIO'),\n",
       " (10854.787998286485, 'town_SERANGOON'),\n",
       " (5689.560947243071, 'town_BEDOK'),\n",
       " (-3984.3670151759525, 'flat_type_4 ROOM'),\n",
       " (-20465.69213734792, 'town_TAMPINES'),\n",
       " (-30319.86322509725, 'town_JURONG EAST'),\n",
       " (-52623.568868582064, 'town_BUKIT BATOK'),\n",
       " (-55048.63982345896, 'town_HOUGANG'),\n",
       " (-60099.252690521396, 'age'),\n",
       " (-73017.77899681461, 'town_PASIR RIS'),\n",
       " (-87422.41076535729, 'town_YISHUN'),\n",
       " (-108159.81578118677, 'town_JURONG WEST'),\n",
       " (-111923.43100346536, 'town_BUKIT PANJANG'),\n",
       " (-118484.47027457021, 'flat_type_3 ROOM'),\n",
       " (-123005.93690811438, 'town_PUNGGOL'),\n",
       " (-131196.6670839563, 'town_SENGKANG'),\n",
       " (-134733.96277135066, 'town_WOODLANDS'),\n",
       " (-139287.2603802619, 'town_CHOA CHU KANG'),\n",
       " (-181934.89316782533, 'town_SEMBAWANG'),\n",
       " (-226981.265788721, 'flat_type_2 ROOM'),\n",
       " (-318107.8643560592, 'flat_type_1 ROOM')]"
      ]
     },
     "execution_count": 24,
     "metadata": {},
     "output_type": "execute_result"
    }
   ],
   "source": [
    "# get the coefficient for respecitve features\n",
    "sorted(zip(lr_coe_list, features_list), reverse=True)"
   ]
  },
  {
   "cell_type": "code",
   "execution_count": 25,
   "id": "3dcfac5e",
   "metadata": {},
   "outputs": [],
   "source": [
    "# check for top and btm 10 features that influence the sale price\n",
    "top_btm_10_features = sorted(zip(lr_coe_list, features_list), reverse=True)[0:10] \\\n",
    "                        + sorted(zip(lr_coe_list, features_list), reverse=True)[-10:]"
   ]
  },
  {
   "cell_type": "code",
   "execution_count": 26,
   "id": "7b53ee0a",
   "metadata": {},
   "outputs": [
    {
     "data": {
      "text/plain": [
       "[(356492.2456845817, 'flat_type_MULTI-GENERATION'),\n",
       " (217274.09858267242, 'flat_type_EXECUTIVE'),\n",
       " (213055.91405678075, 'town_BUKIT TIMAH'),\n",
       " (189290.25050586576, 'town_CENTRAL AREA'),\n",
       " (163034.20484999812, 'town_MARINE PARADE'),\n",
       " (134031.9082689563, 'town_QUEENSTOWN'),\n",
       " (123283.69169144362, 'town_BUKIT MERAH'),\n",
       " (115040.0384415315, 'town_BISHAN'),\n",
       " (93791.62316759542, 'flat_type_5 ROOM'),\n",
       " (79889.1867612046, 'town_KALLANG/WHAMPOA'),\n",
       " (-108159.81578118677, 'town_JURONG WEST'),\n",
       " (-111923.43100346536, 'town_BUKIT PANJANG'),\n",
       " (-118484.47027457021, 'flat_type_3 ROOM'),\n",
       " (-123005.93690811438, 'town_PUNGGOL'),\n",
       " (-131196.6670839563, 'town_SENGKANG'),\n",
       " (-134733.96277135066, 'town_WOODLANDS'),\n",
       " (-139287.2603802619, 'town_CHOA CHU KANG'),\n",
       " (-181934.89316782533, 'town_SEMBAWANG'),\n",
       " (-226981.265788721, 'flat_type_2 ROOM'),\n",
       " (-318107.8643560592, 'flat_type_1 ROOM')]"
      ]
     },
     "execution_count": 26,
     "metadata": {},
     "output_type": "execute_result"
    }
   ],
   "source": [
    "top_btm_10_features"
   ]
  },
  {
   "cell_type": "code",
   "execution_count": 27,
   "id": "e4073255",
   "metadata": {},
   "outputs": [],
   "source": [
    "def create_barplot(features_list):\n",
    "    x_value =[]\n",
    "    y_value = []\n",
    "    for feature in features_list:\n",
    "        x_value.append(feature[0])\n",
    "        y_value.append(feature[1])\n",
    "    \n",
    "    plt.figure(figsize=(10, 10))\n",
    "    bp = sns.barplot(\n",
    "                # y to specify list of category\n",
    "                y=y_value, \n",
    "                # x to specify the data to the list of category\n",
    "                x=x_value,\n",
    "     \n",
    "        )\n",
    "\n",
    "    bp.set_xlabel('Coefficient', fontdict={'fontsize':12, 'fontweight': 'bold'})\n",
    "    bp.set_ylabel('Features', fontdict={'fontsize':12, 'fontweight': 'bold'})\n",
    "    bp.set_title('Features Importance', fontdict={'fontsize':16, 'fontweight': 'bold'})\n",
    "\n",
    "    \n",
    "    plt.show()"
   ]
  },
  {
   "cell_type": "code",
   "execution_count": 28,
   "id": "82ec96ae",
   "metadata": {},
   "outputs": [
    {
     "data": {
      "image/png": "[encoded data removed]",
      "text/plain": [
       "<Figure size 720x720 with 1 Axes>"
      ]
     },
     "metadata": {
      "needs_background": "light"
     },
     "output_type": "display_data"
    }
   ],
   "source": [
    "create_barplot(top_btm_10_features)"
   ]
  },
  {
   "cell_type": "code",
   "execution_count": 29,
   "id": "25a004df",
   "metadata": {},
   "outputs": [
    {
     "data": {
      "text/plain": [
       "array(['Improved', 'New Generation', 'Standard', 'Model A', 'Simplified',\n",
       "       'Premium Apartment', 'Maisonette', 'Model A-Maisonette',\n",
       "       'Apartment', 'Adjoined flat', 'Multi Generation', 'Model A2',\n",
       "       'Terrace', 'Improved-Maisonette', 'Premium Maisonette', 'DBSS',\n",
       "       'Type S1', 'Type S2', 'Premium Apartment Loft', '2-room'],\n",
       "      dtype=object)"
      ]
     },
     "execution_count": 29,
     "metadata": {},
     "output_type": "execute_result"
    }
   ],
   "source": [
    "data_df['flat_model'].unique()"
   ]
  },
  {
   "cell_type": "code",
   "execution_count": 30,
   "id": "cb70bb4d",
   "metadata": {},
   "outputs": [],
   "source": [
    "# Set up a list of ridge alphas to check.\n",
    "r_alphas = np.logspace(0, 10, 100)\n",
    "# Cross-validate over our list of ridge alphas.\n",
    "ridge_cv = RidgeCV(\n",
    "                    alphas=r_alphas,\n",
    "                    cv=5,\n",
    "                    scoring='neg_mean_squared_error'\n",
    "                )"
   ]
  },
  {
   "cell_type": "code",
   "execution_count": 31,
   "id": "0fce51d5",
   "metadata": {},
   "outputs": [],
   "source": [
    "# Append classifier to preprocessing pipeline.\n",
    "# Now we have a full prediction pipeline.\n",
    "ridge = Pipeline(\n",
    "    steps=[(\"preprocessor\", preprocessor), (\"classifier\", ridge_cv)]\n",
    ")"
   ]
  },
  {
   "cell_type": "code",
   "execution_count": 32,
   "id": "cecde8af",
   "metadata": {},
   "outputs": [
    {
     "name": "stdout",
     "output_type": "stream",
     "text": [
      "Time taken is 40.47 seconds\n"
     ]
    }
   ],
   "source": [
    "# time taken is 41 sec\n",
    "start = time.time()\n",
    "# Fit model using best ridge alpha!\n",
    "ridge.fit(X_train, y_train)\n",
    "end = time.time()\n",
    "ridge_fit_time = end - start\n",
    "print('Time taken is %.2f seconds' % ridge_fit_time)"
   ]
  },
  {
   "cell_type": "code",
   "execution_count": 33,
   "id": "fff050d5",
   "metadata": {},
   "outputs": [
    {
     "name": "stdout",
     "output_type": "stream",
     "text": [
      "Time taken is 160.59 seconds.\n"
     ]
    }
   ],
   "source": [
    "# time taken is 161 sec\n",
    "start = time.time()\n",
    "# cross validation with k-folds=5 for the ridge model\n",
    "# using mean sq error as the metrics\n",
    "cross_val_score(\n",
    "            ridge,\n",
    "            X_train,\n",
    "            y_train,\n",
    "            cv=5,\n",
    "            scoring='neg_mean_squared_error'\n",
    ").mean()\n",
    "end = time.time()\n",
    "print('Time taken is %.2f seconds.' % (end-start))"
   ]
  },
  {
   "cell_type": "code",
   "execution_count": 34,
   "id": "377eba00",
   "metadata": {},
   "outputs": [
    {
     "data": {
      "text/plain": [
       "1.0"
      ]
     },
     "execution_count": 34,
     "metadata": {},
     "output_type": "execute_result"
    }
   ],
   "source": [
    "ridge['classifier'].alpha_"
   ]
  },
  {
   "cell_type": "code",
   "execution_count": 35,
   "id": "1c0b66c9",
   "metadata": {},
   "outputs": [
    {
     "data": {
      "text/plain": [
       "array([ -60054.17311027,   33962.14475321,    5725.6270707 ,\n",
       "        115478.70759333,  -52630.60394118,  123537.18081977,\n",
       "       -111950.10877436,  212525.07067996,  189242.33697739,\n",
       "       -139013.00386231,   68070.19747385,   39948.36869179,\n",
       "        -55089.00216   ,  -30523.48814541, -107731.07904841,\n",
       "         79797.93879631,  162809.67908285,  -73168.30422092,\n",
       "       -122837.32169111,  134144.1186825 , -181791.93840767,\n",
       "       -131084.05157646,   10696.46313942,  -20401.11085381,\n",
       "         72547.16488978, -134919.22403611,  -87345.7619329 ,\n",
       "       -321985.85921206, -223212.65728078, -115068.76170816,\n",
       "          -558.87152238,   97206.32735047,  220714.36750352,\n",
       "        342905.45489019])"
      ]
     },
     "execution_count": 35,
     "metadata": {},
     "output_type": "execute_result"
    }
   ],
   "source": [
    "# get the coefficient\n",
    "ridge_coe = ridge['classifier'].coef_\n",
    "ridge_coe"
   ]
  },
  {
   "cell_type": "code",
   "execution_count": 36,
   "id": "1ad4d456",
   "metadata": {},
   "outputs": [
    {
     "data": {
      "text/plain": [
       "479667.4538387833"
      ]
     },
     "execution_count": 36,
     "metadata": {},
     "output_type": "execute_result"
    }
   ],
   "source": [
    "ridge['classifier'].intercept_"
   ]
  },
  {
   "cell_type": "code",
   "execution_count": 37,
   "id": "cbc2ae32",
   "metadata": {},
   "outputs": [
    {
     "name": "stdout",
     "output_type": "stream",
     "text": [
      "Train RMSE: 67477.486\n",
      "Train R2 score: 0.776\n"
     ]
    }
   ],
   "source": [
    "# predict the sale price using the ridge model for train set\n",
    "y_pred_train_ridge = ridge.predict(X_train)\n",
    "# predict the sale price using the ridge model for train set\n",
    "ridge_rmse_train = metrics.mean_squared_error(y_pred_train_ridge, y_train)**0.5\n",
    "ridge_r2_train = ridge.score(X_train, y_train)\n",
    "print(\"Train RMSE: %.3f\" % ridge_rmse_train)\n",
    "print(\"Train R2 score: %.3f\" % ridge_r2_train)"
   ]
  },
  {
   "cell_type": "code",
   "execution_count": 38,
   "id": "f24e0f9f",
   "metadata": {},
   "outputs": [
    {
     "name": "stdout",
     "output_type": "stream",
     "text": [
      "Test RMSE: 67160.808\n",
      "Test R2 score: 0.778\n"
     ]
    }
   ],
   "source": [
    "# predict the sale price using the ridge model  for test set\n",
    "y_pred_test_ridge = ridge.predict(X_test)\n",
    "# predict the sale price using the ridge model for test set\n",
    "ridge_rmse_test = metrics.mean_squared_error(y_pred_test_ridge, y_test)**0.5\n",
    "ridge_r2_test = ridge.score(X_test, y_test)\n",
    "print(\"Test RMSE: %.3f\" % ridge_rmse_test)\n",
    "print(\"Test R2 score: %.3f\" % ridge_r2_test)"
   ]
  },
  {
   "cell_type": "code",
   "execution_count": 39,
   "id": "9ae44359",
   "metadata": {},
   "outputs": [],
   "source": [
    "# check for top and btm 10 features that influence the sale price\n",
    "ridge_top_btm_10_features = sorted(zip(ridge_coe, features_list), reverse=True)[0:10] \\\n",
    "                            + sorted(zip(ridge_coe, features_list), reverse=True)[-10:]"
   ]
  },
  {
   "cell_type": "code",
   "execution_count": 40,
   "id": "12d4a4cd",
   "metadata": {},
   "outputs": [
    {
     "data": {
      "image/png": "[encoded data removed]",
      "text/plain": [
       "<Figure size 720x720 with 1 Axes>"
      ]
     },
     "metadata": {
      "needs_background": "light"
     },
     "output_type": "display_data"
    }
   ],
   "source": [
    "create_barplot(ridge_top_btm_10_features)"
   ]
  },
  {
   "cell_type": "code",
   "execution_count": 41,
   "id": "11ed2835",
   "metadata": {},
   "outputs": [],
   "source": [
    "# Set up a list of Lasso alphas to check.\n",
    "l_alphas = np.logspace(-3, 10, 100)\n",
    "# Cross-validate over our list of Lasso alphas.\n",
    "lasso_cv = LassoCV(\n",
    "#             alphas=l_alphas,\n",
    "            n_alphas=500,\n",
    "            cv=5,\n",
    "            #scoring='neg_mean_squared_error', # cannot choose scoring, only can pick MSE\n",
    "            max_iter=50000\n",
    "        )"
   ]
  },
  {
   "cell_type": "code",
   "execution_count": 42,
   "id": "6a8b6c98",
   "metadata": {},
   "outputs": [],
   "source": [
    "# Append classifier to preprocessing pipeline.\n",
    "# Now we have a full prediction pipeline.\n",
    "lasso = Pipeline(\n",
    "    steps=[(\"preprocessor\", preprocessor), (\"classifier\", lasso_cv)]\n",
    ")"
   ]
  },
  {
   "cell_type": "code",
   "execution_count": 43,
   "id": "a6aeab15",
   "metadata": {},
   "outputs": [
    {
     "name": "stdout",
     "output_type": "stream",
     "text": [
      "Time taken is 122.53 seconds.\n"
     ]
    }
   ],
   "source": [
    "# takes 123 seconds\n",
    "start = time.time()\n",
    "# Fit model using best lasso alpha!\n",
    "lasso.fit(X_train, y_train)\n",
    "end = time.time()\n",
    "lasso_fit_time = end - start\n",
    "print('Time taken is %.2f seconds.' % lasso_fit_time)"
   ]
  },
  {
   "cell_type": "code",
   "execution_count": 44,
   "id": "30c2ae8c",
   "metadata": {},
   "outputs": [
    {
     "name": "stdout",
     "output_type": "stream",
     "text": [
      "Time taken is 509.14 seconds.\n"
     ]
    }
   ],
   "source": [
    "# time taken is 510 sec\n",
    "start = time.time()\n",
    "# cross validation with k-folds=5 for the lasso model\n",
    "# using mean sq error as the metrics\n",
    "cross_val_score(\n",
    "            lasso,\n",
    "            X_train,\n",
    "            y_train,\n",
    "            cv=5,\n",
    "            scoring='neg_mean_squared_error'\n",
    ").mean()\n",
    "end = time.time()\n",
    "print('Time taken is %.2f seconds.' % (end-start))"
   ]
  },
  {
   "cell_type": "code",
   "execution_count": 45,
   "id": "28e24fa3",
   "metadata": {},
   "outputs": [
    {
     "data": {
      "text/plain": [
       "50.707080163989524"
      ]
     },
     "execution_count": 45,
     "metadata": {},
     "output_type": "execute_result"
    }
   ],
   "source": [
    "lasso['classifier'].alpha_"
   ]
  },
  {
   "cell_type": "code",
   "execution_count": 46,
   "id": "1b87debc",
   "metadata": {},
   "outputs": [
    {
     "data": {
      "text/plain": [
       "array([ -60054.17311027,   33962.14475321,    5725.6270707 ,\n",
       "        115478.70759333,  -52630.60394118,  123537.18081977,\n",
       "       -111950.10877436,  212525.07067996,  189242.33697739,\n",
       "       -139013.00386231,   68070.19747385,   39948.36869179,\n",
       "        -55089.00216   ,  -30523.48814541, -107731.07904841,\n",
       "         79797.93879631,  162809.67908285,  -73168.30422092,\n",
       "       -122837.32169111,  134144.1186825 , -181791.93840767,\n",
       "       -131084.05157646,   10696.46313942,  -20401.11085381,\n",
       "         72547.16488978, -134919.22403611,  -87345.7619329 ,\n",
       "       -321985.85921206, -223212.65728078, -115068.76170816,\n",
       "          -558.87152238,   97206.32735047,  220714.36750352,\n",
       "        342905.45489019])"
      ]
     },
     "execution_count": 46,
     "metadata": {},
     "output_type": "execute_result"
    }
   ],
   "source": [
    "# get the coefficient\n",
    "lasso_coe = ridge['classifier'].coef_\n",
    "lasso_coe"
   ]
  },
  {
   "cell_type": "code",
   "execution_count": 47,
   "id": "b3c79b05",
   "metadata": {},
   "outputs": [
    {
     "data": {
      "text/plain": [
       "459531.8286053788"
      ]
     },
     "execution_count": 47,
     "metadata": {},
     "output_type": "execute_result"
    }
   ],
   "source": [
    "lasso['classifier'].intercept_"
   ]
  },
  {
   "cell_type": "code",
   "execution_count": 48,
   "id": "b8a8081d",
   "metadata": {},
   "outputs": [
    {
     "name": "stdout",
     "output_type": "stream",
     "text": [
      "Train RMSE: 67597.058\n",
      "Train R2 score: 0.776\n"
     ]
    }
   ],
   "source": [
    "# predict the sale price using the lasso model for train set\n",
    "y_pred_train_lasso = lasso.predict(X_train)\n",
    "# predict the sale price using the lasso model for train set\n",
    "lasso_rmse_train = metrics.mean_squared_error(y_pred_train_lasso, y_train)**0.5\n",
    "lasso_r2_train = ridge.score(X_train, y_train)\n",
    "print(\"Train RMSE: %.3f\" % lasso_rmse_train)\n",
    "print(\"Train R2 score: %.3f\" % lasso_r2_train)"
   ]
  },
  {
   "cell_type": "code",
   "execution_count": 49,
   "id": "c8fcb4c6",
   "metadata": {},
   "outputs": [
    {
     "name": "stdout",
     "output_type": "stream",
     "text": [
      "Test RMSE: 67265.667\n",
      "Test R2 score: 0.777\n"
     ]
    }
   ],
   "source": [
    "# predict the sale price using the lasso model for test set\n",
    "y_pred_test_lasso = lasso.predict(X_test)\n",
    "# predict the sale price using the lasso model for ttest set\n",
    "lasso_rmse_test = metrics.mean_squared_error(y_pred_test_lasso, y_test)**0.5\n",
    "lasso_r2_test = lasso.score(X_test, y_test)\n",
    "print(\"Test RMSE: %.3f\" % lasso_rmse_test)\n",
    "print(\"Test R2 score: %.3f\" % lasso_r2_test)"
   ]
  },
  {
   "cell_type": "code",
   "execution_count": 50,
   "id": "682c7211",
   "metadata": {},
   "outputs": [],
   "source": [
    "# check for top and btm 10 features that influence the sale price\n",
    "lasso_top_btm_10_features = sorted(zip(lasso_coe, features_list), reverse=True)[0:10] \\\n",
    "                            + sorted(zip(lasso_coe, features_list), reverse=True)[-10:]"
   ]
  },
  {
   "cell_type": "code",
   "execution_count": 51,
   "id": "88ebb864",
   "metadata": {},
   "outputs": [
    {
     "data": {
      "image/png": "[encoded data removed]",
      "text/plain": [
       "<Figure size 720x720 with 1 Axes>"
      ]
     },
     "metadata": {
      "needs_background": "light"
     },
     "output_type": "display_data"
    }
   ],
   "source": [
    "create_barplot(lasso_top_btm_10_features)"
   ]
  },
  {
   "cell_type": "code",
   "execution_count": 52,
   "id": "69578eb3",
   "metadata": {},
   "outputs": [],
   "source": [
    "column_list = ['Model', 'Train RSME', 'Train R2', 'Test RSME', 'Test R2', 'Fit Time (sec)']\n",
    "lr_data = ['Linear Regression', round(lr_rmse_train, 3), round(lr_r2_train, 3), round(lr_rmse_test, 3), \\\n",
    "           round(lr_r2_test, 3), round(lr_fit_time, 3)]\n",
    "ridge_data = ['Ridge Regression', round(ridge_rmse_train, 3), round(ridge_r2_train, 3), round(ridge_rmse_test, 3), \\\n",
    "              round(ridge_r2_test, 3), round(ridge_fit_time, 3)]\n",
    "lasso_data = ['Lasso Regression', round(lasso_rmse_train, 3), round(lasso_r2_train, 3), round(lasso_rmse_test, 3), \\\n",
    "              round(lasso_r2_test, 3), round(lasso_fit_time, 3)]\n",
    "data = [lr_data, ridge_data, lasso_data]\n",
    "model_df = pd.DataFrame(data, columns=column_list)"
   ]
  },
  {
   "cell_type": "code",
   "execution_count": 53,
   "id": "2966f542",
   "metadata": {},
   "outputs": [
    {
     "data": {
      "text/html": [
       "<div>\n",
       "<style scoped>\n",
       "    .dataframe tbody tr th:only-of-type {\n",
       "        vertical-align: middle;\n",
       "    }\n",
       "\n",
       "    .dataframe tbody tr th {\n",
       "        vertical-align: top;\n",
       "    }\n",
       "\n",
       "    .dataframe thead th {\n",
       "        text-align: right;\n",
       "    }\n",
       "</style>\n",
       "<table border=\"1\" class=\"dataframe\">\n",
       "  <thead>\n",
       "    <tr style=\"text-align: right;\">\n",
       "      <th></th>\n",
       "      <th>Model</th>\n",
       "      <th>Train RSME</th>\n",
       "      <th>Train R2</th>\n",
       "      <th>Test RSME</th>\n",
       "      <th>Test R2</th>\n",
       "      <th>Fit Time (sec)</th>\n",
       "    </tr>\n",
       "  </thead>\n",
       "  <tbody>\n",
       "    <tr>\n",
       "      <th>0</th>\n",
       "      <td>Linear Regression</td>\n",
       "      <td>67476.189</td>\n",
       "      <td>0.776</td>\n",
       "      <td>67164.250</td>\n",
       "      <td>0.777</td>\n",
       "      <td>0.516</td>\n",
       "    </tr>\n",
       "    <tr>\n",
       "      <th>1</th>\n",
       "      <td>Ridge Regression</td>\n",
       "      <td>67477.486</td>\n",
       "      <td>0.776</td>\n",
       "      <td>67160.808</td>\n",
       "      <td>0.778</td>\n",
       "      <td>40.471</td>\n",
       "    </tr>\n",
       "    <tr>\n",
       "      <th>2</th>\n",
       "      <td>Lasso Regression</td>\n",
       "      <td>67597.058</td>\n",
       "      <td>0.776</td>\n",
       "      <td>67265.667</td>\n",
       "      <td>0.777</td>\n",
       "      <td>122.527</td>\n",
       "    </tr>\n",
       "  </tbody>\n",
       "</table>\n",
       "</div>"
      ],
      "text/plain": [
       "               Model  Train RSME  Train R2  Test RSME  Test R2  Fit Time (sec)\n",
       "0  Linear Regression   67476.189     0.776  67164.250    0.777           0.516\n",
       "1   Ridge Regression   67477.486     0.776  67160.808    0.778          40.471\n",
       "2   Lasso Regression   67597.058     0.776  67265.667    0.777         122.527"
      ]
     },
     "execution_count": 53,
     "metadata": {},
     "output_type": "execute_result"
    }
   ],
   "source": [
    "model_df"
   ]
  },
  {
   "cell_type": "code",
   "execution_count": 54,
   "id": "eed1b6ef",
   "metadata": {},
   "outputs": [],
   "source": [
    "import pickle\n",
    "# filename = 'lr_model.sav'\n",
    "pickle.dump(lr, open('./models/lr_model_2014.sav', 'wb'))\n",
    " \n",
    "# # load the model from disk\n",
    "# loaded_model = pickle.load(open(filename, 'rb'))\n",
    "# result = loaded_model.score(X_test, Y_test)"
   ]
  },
  {
   "cell_type": "markdown",
   "id": "a38167ed",
   "metadata": {},
   "source": [
    "### Assessment on the resale price given the features of a HDB flat\n",
    "Given the following features of HDB sold in 2017:\n",
    "* Flat type: 4 ROOM\n",
    "* Town: Yishun\n",
    "* Flat Model: New Generation\n",
    "* Storey Range: 10 to 12\n",
    "* Floor Area (sqm): 91\n",
    "* Lease Commence Date: 1984\n",
    "* Resale Price: 550,800"
   ]
  },
  {
   "cell_type": "code",
   "execution_count": 55,
   "id": "334ceb37",
   "metadata": {},
   "outputs": [
    {
     "data": {
      "image/png": "[encoded data removed]",
      "text/plain": [
       "<Figure size 576x576 with 1 Axes>"
      ]
     },
     "metadata": {
      "needs_background": "light"
     },
     "output_type": "display_data"
    }
   ],
   "source": [
    "data_df.loc[(data_df['year'] == 2017) & (data_df['flat_type'] == '4 ROOM') & \\\n",
    "            (data_df['town'] == 'YISHUN') & (data_df['floor_area_sqm'] == 91), \\\n",
    "            'resale_price'].hist(figsize=(8,8))\n",
    "plt.tight_layout()\n",
    "plt.xlabel('Resale Price', fontdict={'fontsize': 12})\n",
    "plt.title('Resale Price', fontdict={'fontsize': 16, 'fontweight': 'bold'})\n",
    "plt.show();"
   ]
  },
  {
   "cell_type": "code",
   "execution_count": 56,
   "id": "5d1458f6",
   "metadata": {},
   "outputs": [
    {
     "data": {
      "text/html": [
       "<div>\n",
       "<style scoped>\n",
       "    .dataframe tbody tr th:only-of-type {\n",
       "        vertical-align: middle;\n",
       "    }\n",
       "\n",
       "    .dataframe tbody tr th {\n",
       "        vertical-align: top;\n",
       "    }\n",
       "\n",
       "    .dataframe thead th {\n",
       "        text-align: right;\n",
       "    }\n",
       "</style>\n",
       "<table border=\"1\" class=\"dataframe\">\n",
       "  <thead>\n",
       "    <tr style=\"text-align: right;\">\n",
       "      <th></th>\n",
       "      <th>age</th>\n",
       "      <th>town</th>\n",
       "      <th>flat_type</th>\n",
       "    </tr>\n",
       "  </thead>\n",
       "  <tbody>\n",
       "    <tr>\n",
       "      <th>0</th>\n",
       "      <td>33</td>\n",
       "      <td>YISHUN</td>\n",
       "      <td>4 ROOM</td>\n",
       "    </tr>\n",
       "  </tbody>\n",
       "</table>\n",
       "</div>"
      ],
      "text/plain": [
       "   age    town flat_type\n",
       "0   33  YISHUN    4 ROOM"
      ]
     },
     "execution_count": 56,
     "metadata": {},
     "output_type": "execute_result"
    }
   ],
   "source": [
    "new_data = [[33, 'YISHUN', '4 ROOM']]\n",
    "cont_vars2 = ['age']\n",
    "nom_vars2 = ['town', 'flat_type']\n",
    "X_data = pd.DataFrame(new_data, columns=cont_vars2+nom_vars2)\n",
    "X_data"
   ]
  },
  {
   "cell_type": "code",
   "execution_count": 57,
   "id": "2f066232",
   "metadata": {},
   "outputs": [
    {
     "data": {
      "text/plain": [
       "array([347687.15377097])"
      ]
     },
     "execution_count": 57,
     "metadata": {},
     "output_type": "execute_result"
    }
   ],
   "source": [
    "price_baseyear_2014 = lr.predict(X_data)\n",
    "price_baseyear_2014"
   ]
  },
  {
   "cell_type": "code",
   "execution_count": 59,
   "id": "06844197",
   "metadata": {},
   "outputs": [
    {
     "data": {
      "text/plain": [
       "1.0243902439029722"
      ]
     },
     "execution_count": 59,
     "metadata": {},
     "output_type": "execute_result"
    }
   ],
   "source": [
    "inflated_2017 = data_df.loc[data_df['year'] == 2017, 'inflated_rate'].mean()\n",
    "inflated_2017"
   ]
  },
  {
   "cell_type": "code",
   "execution_count": 62,
   "id": "a32bd28f",
   "metadata": {},
   "outputs": [
    {
     "data": {
      "text/plain": [
       "array([339408.88820482])"
      ]
     },
     "execution_count": 62,
     "metadata": {},
     "output_type": "execute_result"
    }
   ],
   "source": [
    "price_baseyear_2014/inflated_2017"
   ]
  },
  {
   "cell_type": "markdown",
   "id": "59cb878d",
   "metadata": {},
   "source": [
    "### Conclusion\n",
    "\n",
    "Answer to Question 2A:\n",
    "The Linear Regression model was chosen for predicting the resale price of HDB flat as it achieve the lowest RSME and it took a less than 1 sec to fit the training dataset compared to the other models. From the feature importance bar plot, we can also see that towns in the Central area like Bukit Timah, Bishan, Bukit Merah and Queenstown as well as flat type like MULTI_GENERATION, EXECUTIVE and 5-ROOM contribute to the high resale price. On the contrary, towns in the West and North-East areas like Sembawang, Choa Chu Kang, Woodlands, Jurong West, Bukit Panjang, Seng Kang and Punggol as well as flat type like 1-ROOM, 2-ROOM and 3-ROOM contribute to a lower resale price.\n",
    "\n",
    "Answer to Question 2B:\n",
    "From the historical data that we had, a histogram was plotted using the resale price in 2017 for the given features and it ranged between 300K to 430K. Hence the resale price of 550K is not reasonable in my opinion. The Linear Regression model was used to predict the resale price given the features/characteristics and the predicted price was ~340K taking into consideration the inflation rate."
   ]
  },
  {
   "cell_type": "code",
   "execution_count": null,
   "id": "9ead4c22",
   "metadata": {},
   "outputs": [],
   "source": []
  }
 ],
 "metadata": {
  "kernelspec": {
   "display_name": "Python 3",
   "language": "python",
   "name": "python3"
  },
  "language_info": {
   "codemirror_mode": {
    "name": "ipython",
    "version": 3
   },
   "file_extension": ".py",
   "mimetype": "text/x-python",
   "name": "python",
   "nbconvert_exporter": "python",
   "pygments_lexer": "ipython3",
   "version": "3.8.8"
  },
  "toc": {
   "base_numbering": 1,
   "nav_menu": {},
   "number_sections": true,
   "sideBar": true,
   "skip_h1_title": true,
   "title_cell": "Table of Contents",
   "title_sidebar": "Contents",
   "toc_cell": false,
   "toc_position": {},
   "toc_section_display": true,
   "toc_window_display": true
  }
 },
 "nbformat": 4,
 "nbformat_minor": 5
}
