{
 "cells": [
  {
   "cell_type": "markdown",
   "id": "a41b7482",
   "metadata": {},
   "source": [
    "# Part 4. Modeling and Evaluation II"
   ]
  },
  {
   "cell_type": "markdown",
   "id": "2f10c9e7",
   "metadata": {},
   "source": [
    "## Import basic libraries and load data\n",
    "\n",
    "This section import the basic python libraries for usage as well as loading the dataset from the previous notebook."
   ]
  },
  {
   "cell_type": "code",
   "execution_count": 1,
   "id": "2353f1d1",
   "metadata": {},
   "outputs": [],
   "source": [
    "# imports\n",
    "import pandas as pd\n",
    "import numpy as np\n",
    "import matplotlib.pyplot as plt\n",
    "import seaborn as sns\n",
    "import time"
   ]
  },
  {
   "cell_type": "code",
   "execution_count": 2,
   "id": "7d1ef53f",
   "metadata": {},
   "outputs": [],
   "source": [
    "pd.set_option(\"display.max_rows\", None)\n",
    "pd.set_option(\"display.max_columns\", None)"
   ]
  },
  {
   "cell_type": "code",
   "execution_count": 3,
   "id": "c55c9398",
   "metadata": {},
   "outputs": [],
   "source": [
    "data_df = pd.read_csv('./datasets/merge_data_with_amenities_final_baseyear2014.csv')"
   ]
  },
  {
   "cell_type": "code",
   "execution_count": 4,
   "id": "ec6c2e86",
   "metadata": {},
   "outputs": [
    {
     "name": "stdout",
     "output_type": "stream",
     "text": [
      "<class 'pandas.core.frame.DataFrame'>\n",
      "RangeIndex: 210180 entries, 0 to 210179\n",
      "Data columns (total 24 columns):\n",
      " #   Column                   Non-Null Count   Dtype  \n",
      "---  ------                   --------------   -----  \n",
      " 0   date                     210180 non-null  object \n",
      " 1   town                     210180 non-null  object \n",
      " 2   flat_type                210180 non-null  object \n",
      " 3   block                    210180 non-null  object \n",
      " 4   street_name              210180 non-null  object \n",
      " 5   storey_range             210180 non-null  object \n",
      " 6   floor_area_sqm           210180 non-null  float64\n",
      " 7   flat_model               210180 non-null  object \n",
      " 8   lease_commence_date      210180 non-null  int64  \n",
      " 9   resale_price             210180 non-null  float64\n",
      " 10  year                     210180 non-null  int64  \n",
      " 11  month                    210180 non-null  int64  \n",
      " 12  longitude                210180 non-null  float64\n",
      " 13  latitude                 210180 non-null  float64\n",
      " 14  nearest_dist_to_mrt      210180 non-null  float64\n",
      " 15  nearest_mrt              210180 non-null  object \n",
      " 16  nearest_dist_to_pri_sch  210180 non-null  float64\n",
      " 17  nearest_pri_sch          210180 non-null  object \n",
      " 18  nearest_dist_to_sec_sch  210180 non-null  float64\n",
      " 19  nearest_sec_sch          210180 non-null  object \n",
      " 20  age                      210180 non-null  int64  \n",
      " 21  avg_floor                210180 non-null  int64  \n",
      " 22  inflated_rate            210180 non-null  float64\n",
      " 23  inflated_resale_price    210180 non-null  float64\n",
      "dtypes: float64(9), int64(5), object(10)\n",
      "memory usage: 38.5+ MB\n"
     ]
    }
   ],
   "source": [
    "data_df.info()"
   ]
  },
  {
   "cell_type": "markdown",
   "id": "8ad5894f",
   "metadata": {},
   "source": [
    "## Modeling and Evaluation\n",
    "This section implements 3 classification models namely Decision Tree, Random Forest and K-nearest Neighbors (KNN) to predict the flat type given other characteristics/features without using the resale price. At the end of this section, one of the models will be chosen for the prediction of the flat type."
   ]
  },
  {
   "cell_type": "code",
   "execution_count": 5,
   "id": "0be4d6fc",
   "metadata": {},
   "outputs": [],
   "source": [
    "from sklearn.preprocessing import StandardScaler, OneHotEncoder\n",
    "from sklearn.compose import ColumnTransformer\n",
    "from sklearn.pipeline import Pipeline\n",
    "from sklearn.model_selection import train_test_split\n",
    "from sklearn.metrics import confusion_matrix\n",
    "cont_vars = ['floor_area_sqm']\n",
    "nom_vars = ['flat_model']\n",
    "\n",
    "X = data_df[cont_vars+nom_vars]\n",
    "y = data_df['flat_type']\n",
    "\n",
    "numeric_transformer = StandardScaler()\n",
    "categorical_transformer = OneHotEncoder(handle_unknown=\"ignore\")\n",
    "\n",
    "preprocessor = ColumnTransformer(\n",
    "    transformers=[\n",
    "        (\"num\", numeric_transformer, cont_vars),\n",
    "        (\"cat\", categorical_transformer, nom_vars),\n",
    "    ], remainder='passthrough'\n",
    ")\n",
    "\n",
    "# dividing X, y into train and test data\n",
    "X_train, X_test, y_train, y_test = train_test_split(X, y, random_state = 42)"
   ]
  },
  {
   "cell_type": "code",
   "execution_count": 6,
   "id": "511770cf",
   "metadata": {},
   "outputs": [],
   "source": [
    "def compute(cm_matrix, class_list):\n",
    "    var_list = []\n",
    "    for value in range(len(cm_matrix)):\n",
    "        tp = 0\n",
    "        fn = 0\n",
    "        fp = 0\n",
    "        for row_index in range(cm.shape[0]): # row\n",
    "            col = value\n",
    "#             cm[row_index][col]\n",
    "            if row_index == (col):\n",
    "                tp = cm[row_index][col]\n",
    "            else:\n",
    "                fp += cm[row_index][col]\n",
    "        for col_index in range(cm.shape[1]): # col\n",
    "            row = value\n",
    "        #     cm[row_index][col]\n",
    "            if col_index != (row):\n",
    "                fn += cm[row][col_index]\n",
    "\n",
    "        var_list.append([class_list[value], tp, fp, fn]) \n",
    "    return var_list\n",
    "\n",
    "def compute_metrics(df):\n",
    "    if 'acc' not in df.columns:\n",
    "        df['acc'] = ''\n",
    "    if 'recall' not in df.columns:\n",
    "        df['recall'] = ''\n",
    "    if 'prec' not in df.columns:\n",
    "        df['prec'] = ''\n",
    "    if 'f1' not in df.columns:\n",
    "        df['f1'] = ''\n",
    "    for index, row in df.iterrows():\n",
    "        df['acc'] = df['tp']/(df['tp']+df['fn']+df['fp'])\n",
    "        df['recall'] = df['tp']/(df['tp']+df['fn'])\n",
    "        df['prec'] = df['tp']/(df['tp']+df['fp'])  \n",
    "        df['f1'] = 2*df['recall']*df['prec']/(df['recall']+df['prec'])\n"
   ]
  },
  {
   "cell_type": "code",
   "execution_count": 7,
   "id": "1114ae5e",
   "metadata": {},
   "outputs": [
    {
     "name": "stdout",
     "output_type": "stream",
     "text": [
      "Time taken is 0.31\n"
     ]
    }
   ],
   "source": [
    "# training a DescisionTreeClassifier\n",
    "from sklearn.tree import DecisionTreeClassifier\n",
    "dtree_model = Pipeline(\n",
    "    steps=[(\"preprocessor\", preprocessor), (\"classifier\", DecisionTreeClassifier(max_depth = 7, random_state=42))]\n",
    ")\n",
    "\n",
    "start = time.time()\n",
    "dtree_model.fit(X_train, y_train)\n",
    "\n",
    "\n",
    "# dtree_model = DecisionTreeClassifier(max_depth = 5).fit(X_train, y_train)\n",
    "end = time.time()\n",
    "dtree_fit_time = end - start\n",
    "print('Time taken is %.2f' % dtree_fit_time)"
   ]
  },
  {
   "cell_type": "code",
   "execution_count": 8,
   "id": "e7e5fc4a",
   "metadata": {},
   "outputs": [],
   "source": [
    "from sklearn.metrics import plot_confusion_matrix, ConfusionMatrixDisplay\n",
    "\n",
    "dtree_predictions = dtree_model.predict(X_test)\n",
    "# creating a confusion matrix\n",
    "# actual is row, predict is columns\n",
    "# tn, fp, fn, tp\n",
    "cm = confusion_matrix(y_test, dtree_predictions)\n",
    "# plot_confusion_matrix(dtree_model, X_test, dtree_predictions, cmap='Blues')\n",
    "disp = ConfusionMatrixDisplay(confusion_matrix=cm,\n",
    "                              display_labels=dtree_model.classes_, \n",
    "                              )\n",
    "# disp.plot(cmap='Blues')"
   ]
  },
  {
   "cell_type": "code",
   "execution_count": 9,
   "id": "3316a51a",
   "metadata": {},
   "outputs": [
    {
     "data": {
      "text/plain": [
       "<sklearn.metrics._plot.confusion_matrix.ConfusionMatrixDisplay at 0x7fe1783186d0>"
      ]
     },
     "execution_count": 9,
     "metadata": {},
     "output_type": "execute_result"
    },
    {
     "data": {
      "image/png": "[encoded data removed]",
      "text/plain": [
       "<Figure size 576x576 with 2 Axes>"
      ]
     },
     "metadata": {
      "needs_background": "light"
     },
     "output_type": "display_data"
    }
   ],
   "source": [
    "fig, ax = plt.subplots(figsize=(8, 8))\n",
    "disp.plot(ax=ax, cmap='Blues', xticks_rotation='vertical')"
   ]
  },
  {
   "cell_type": "code",
   "execution_count": 10,
   "id": "a92b96e3",
   "metadata": {},
   "outputs": [
    {
     "data": {
      "text/plain": [
       "[['1 ROOM', 28, 0, 0],\n",
       " ['2 ROOM', 635, 4, 8],\n",
       " ['3 ROOM', 13242, 64, 159],\n",
       " ['4 ROOM', 21411, 211, 96],\n",
       " ['5 ROOM', 12711, 204, 81],\n",
       " ['EXECUTIVE', 3995, 20, 154],\n",
       " ['MULTI-GENERATION', 20, 0, 5]]"
      ]
     },
     "execution_count": 10,
     "metadata": {},
     "output_type": "execute_result"
    }
   ],
   "source": [
    "data = compute(cm, dtree_model.classes_)\n",
    "data"
   ]
  },
  {
   "cell_type": "code",
   "execution_count": 11,
   "id": "12e5a982",
   "metadata": {},
   "outputs": [
    {
     "data": {
      "text/html": [
       "<div>\n",
       "<style scoped>\n",
       "    .dataframe tbody tr th:only-of-type {\n",
       "        vertical-align: middle;\n",
       "    }\n",
       "\n",
       "    .dataframe tbody tr th {\n",
       "        vertical-align: top;\n",
       "    }\n",
       "\n",
       "    .dataframe thead th {\n",
       "        text-align: right;\n",
       "    }\n",
       "</style>\n",
       "<table border=\"1\" class=\"dataframe\">\n",
       "  <thead>\n",
       "    <tr style=\"text-align: right;\">\n",
       "      <th></th>\n",
       "      <th>flat_type</th>\n",
       "      <th>tp</th>\n",
       "      <th>fp</th>\n",
       "      <th>fn</th>\n",
       "    </tr>\n",
       "  </thead>\n",
       "  <tbody>\n",
       "    <tr>\n",
       "      <th>0</th>\n",
       "      <td>1 ROOM</td>\n",
       "      <td>28</td>\n",
       "      <td>0</td>\n",
       "      <td>0</td>\n",
       "    </tr>\n",
       "    <tr>\n",
       "      <th>1</th>\n",
       "      <td>2 ROOM</td>\n",
       "      <td>635</td>\n",
       "      <td>4</td>\n",
       "      <td>8</td>\n",
       "    </tr>\n",
       "    <tr>\n",
       "      <th>2</th>\n",
       "      <td>3 ROOM</td>\n",
       "      <td>13242</td>\n",
       "      <td>64</td>\n",
       "      <td>159</td>\n",
       "    </tr>\n",
       "    <tr>\n",
       "      <th>3</th>\n",
       "      <td>4 ROOM</td>\n",
       "      <td>21411</td>\n",
       "      <td>211</td>\n",
       "      <td>96</td>\n",
       "    </tr>\n",
       "    <tr>\n",
       "      <th>4</th>\n",
       "      <td>5 ROOM</td>\n",
       "      <td>12711</td>\n",
       "      <td>204</td>\n",
       "      <td>81</td>\n",
       "    </tr>\n",
       "    <tr>\n",
       "      <th>5</th>\n",
       "      <td>EXECUTIVE</td>\n",
       "      <td>3995</td>\n",
       "      <td>20</td>\n",
       "      <td>154</td>\n",
       "    </tr>\n",
       "    <tr>\n",
       "      <th>6</th>\n",
       "      <td>MULTI-GENERATION</td>\n",
       "      <td>20</td>\n",
       "      <td>0</td>\n",
       "      <td>5</td>\n",
       "    </tr>\n",
       "  </tbody>\n",
       "</table>\n",
       "</div>"
      ],
      "text/plain": [
       "          flat_type     tp   fp   fn\n",
       "0            1 ROOM     28    0    0\n",
       "1            2 ROOM    635    4    8\n",
       "2            3 ROOM  13242   64  159\n",
       "3            4 ROOM  21411  211   96\n",
       "4            5 ROOM  12711  204   81\n",
       "5         EXECUTIVE   3995   20  154\n",
       "6  MULTI-GENERATION     20    0    5"
      ]
     },
     "execution_count": 11,
     "metadata": {},
     "output_type": "execute_result"
    }
   ],
   "source": [
    "cols = ['flat_type', 'tp', 'fp', 'fn']\n",
    "metrics_df = pd.DataFrame(data, columns=cols)\n",
    "metrics_df"
   ]
  },
  {
   "cell_type": "code",
   "execution_count": 12,
   "id": "b86bdcb5",
   "metadata": {},
   "outputs": [
    {
     "data": {
      "text/html": [
       "<div>\n",
       "<style scoped>\n",
       "    .dataframe tbody tr th:only-of-type {\n",
       "        vertical-align: middle;\n",
       "    }\n",
       "\n",
       "    .dataframe tbody tr th {\n",
       "        vertical-align: top;\n",
       "    }\n",
       "\n",
       "    .dataframe thead th {\n",
       "        text-align: right;\n",
       "    }\n",
       "</style>\n",
       "<table border=\"1\" class=\"dataframe\">\n",
       "  <thead>\n",
       "    <tr style=\"text-align: right;\">\n",
       "      <th></th>\n",
       "      <th>tp</th>\n",
       "      <th>fp</th>\n",
       "      <th>fn</th>\n",
       "      <th>acc</th>\n",
       "      <th>recall</th>\n",
       "      <th>prec</th>\n",
       "      <th>f1</th>\n",
       "    </tr>\n",
       "    <tr>\n",
       "      <th>flat_type</th>\n",
       "      <th></th>\n",
       "      <th></th>\n",
       "      <th></th>\n",
       "      <th></th>\n",
       "      <th></th>\n",
       "      <th></th>\n",
       "      <th></th>\n",
       "    </tr>\n",
       "  </thead>\n",
       "  <tbody>\n",
       "    <tr>\n",
       "      <th>1 ROOM</th>\n",
       "      <td>28</td>\n",
       "      <td>0</td>\n",
       "      <td>0</td>\n",
       "      <td>1.000000</td>\n",
       "      <td>1.000000</td>\n",
       "      <td>1.000000</td>\n",
       "      <td>1.000000</td>\n",
       "    </tr>\n",
       "    <tr>\n",
       "      <th>2 ROOM</th>\n",
       "      <td>635</td>\n",
       "      <td>4</td>\n",
       "      <td>8</td>\n",
       "      <td>0.981453</td>\n",
       "      <td>0.987558</td>\n",
       "      <td>0.993740</td>\n",
       "      <td>0.990640</td>\n",
       "    </tr>\n",
       "    <tr>\n",
       "      <th>3 ROOM</th>\n",
       "      <td>13242</td>\n",
       "      <td>64</td>\n",
       "      <td>159</td>\n",
       "      <td>0.983439</td>\n",
       "      <td>0.988135</td>\n",
       "      <td>0.995190</td>\n",
       "      <td>0.991650</td>\n",
       "    </tr>\n",
       "    <tr>\n",
       "      <th>4 ROOM</th>\n",
       "      <td>21411</td>\n",
       "      <td>211</td>\n",
       "      <td>96</td>\n",
       "      <td>0.985864</td>\n",
       "      <td>0.995536</td>\n",
       "      <td>0.990241</td>\n",
       "      <td>0.992882</td>\n",
       "    </tr>\n",
       "    <tr>\n",
       "      <th>5 ROOM</th>\n",
       "      <td>12711</td>\n",
       "      <td>204</td>\n",
       "      <td>81</td>\n",
       "      <td>0.978070</td>\n",
       "      <td>0.993668</td>\n",
       "      <td>0.984204</td>\n",
       "      <td>0.988914</td>\n",
       "    </tr>\n",
       "    <tr>\n",
       "      <th>EXECUTIVE</th>\n",
       "      <td>3995</td>\n",
       "      <td>20</td>\n",
       "      <td>154</td>\n",
       "      <td>0.958263</td>\n",
       "      <td>0.962883</td>\n",
       "      <td>0.995019</td>\n",
       "      <td>0.978687</td>\n",
       "    </tr>\n",
       "    <tr>\n",
       "      <th>MULTI-GENERATION</th>\n",
       "      <td>20</td>\n",
       "      <td>0</td>\n",
       "      <td>5</td>\n",
       "      <td>0.800000</td>\n",
       "      <td>0.800000</td>\n",
       "      <td>1.000000</td>\n",
       "      <td>0.888889</td>\n",
       "    </tr>\n",
       "  </tbody>\n",
       "</table>\n",
       "</div>"
      ],
      "text/plain": [
       "                     tp   fp   fn       acc    recall      prec        f1\n",
       "flat_type                                                                \n",
       "1 ROOM               28    0    0  1.000000  1.000000  1.000000  1.000000\n",
       "2 ROOM              635    4    8  0.981453  0.987558  0.993740  0.990640\n",
       "3 ROOM            13242   64  159  0.983439  0.988135  0.995190  0.991650\n",
       "4 ROOM            21411  211   96  0.985864  0.995536  0.990241  0.992882\n",
       "5 ROOM            12711  204   81  0.978070  0.993668  0.984204  0.988914\n",
       "EXECUTIVE          3995   20  154  0.958263  0.962883  0.995019  0.978687\n",
       "MULTI-GENERATION     20    0    5  0.800000  0.800000  1.000000  0.888889"
      ]
     },
     "execution_count": 12,
     "metadata": {},
     "output_type": "execute_result"
    }
   ],
   "source": [
    "compute_metrics(metrics_df)\n",
    "metrics_df.set_index('flat_type')"
   ]
  },
  {
   "cell_type": "code",
   "execution_count": 13,
   "id": "d3c05219",
   "metadata": {},
   "outputs": [
    {
     "name": "stdout",
     "output_type": "stream",
     "text": [
      "                  precision    recall  f1-score   support\n",
      "\n",
      "          1 ROOM       1.00      1.00      1.00        28\n",
      "          2 ROOM       0.99      0.99      0.99       643\n",
      "          3 ROOM       1.00      0.99      0.99     13401\n",
      "          4 ROOM       0.99      1.00      0.99     21507\n",
      "          5 ROOM       0.98      0.99      0.99     12792\n",
      "       EXECUTIVE       1.00      0.96      0.98      4149\n",
      "MULTI-GENERATION       1.00      0.80      0.89        25\n",
      "\n",
      "        accuracy                           0.99     52545\n",
      "       macro avg       0.99      0.96      0.98     52545\n",
      "    weighted avg       0.99      0.99      0.99     52545\n",
      "\n"
     ]
    }
   ],
   "source": [
    "from sklearn.metrics import classification_report\n",
    "print(classification_report(y_test, dtree_predictions, target_names=dtree_model.classes_))"
   ]
  },
  {
   "cell_type": "code",
   "execution_count": 14,
   "id": "8ff6d0b8",
   "metadata": {},
   "outputs": [
    {
     "name": "stdout",
     "output_type": "stream",
     "text": [
      "Time taken is 11.64\n"
     ]
    }
   ],
   "source": [
    "from sklearn.ensemble import RandomForestClassifier\n",
    "# rf_model = RandomForestClassifier(random_state=42, n_jobs=-1, n_estimators=500, min_samples_split=3)\n",
    "#                                                                                     .fit(X_train, y_train)\n",
    "rf_model = Pipeline(\n",
    "    steps=[(\"preprocessor\", preprocessor), (\"classifier\", RandomForestClassifier(random_state=42, \n",
    "                                                                                 n_jobs=-1, n_estimators=500, \n",
    "                                                                                 min_samples_split=3))]\n",
    ")\n",
    "\n",
    "start = time.time()\n",
    "rf_model.fit(X_train, y_train)\n",
    "end = time.time()\n",
    "rf_fit_time = end - start\n",
    "print('Time taken is %.2f' % rf_fit_time)"
   ]
  },
  {
   "cell_type": "code",
   "execution_count": 15,
   "id": "d9585179",
   "metadata": {},
   "outputs": [
    {
     "data": {
      "text/plain": [
       "<sklearn.metrics._plot.confusion_matrix.ConfusionMatrixDisplay at 0x7fe19baf8ee0>"
      ]
     },
     "execution_count": 15,
     "metadata": {},
     "output_type": "execute_result"
    },
    {
     "data": {
      "image/png": "[encoded data removed]",
      "text/plain": [
       "<Figure size 576x576 with 2 Axes>"
      ]
     },
     "metadata": {
      "needs_background": "light"
     },
     "output_type": "display_data"
    }
   ],
   "source": [
    "rf_predictions = rf_model.predict(X_test)\n",
    "\n",
    "# creating a confusion matrix\n",
    "# actual is row, predict is columns\n",
    "# tn, fp, fn, tp\n",
    "cm = confusion_matrix(y_test, rf_predictions)\n",
    "# from sklearn.metrics import plot_confusion_matrix, ConfusionMatrixDisplay\n",
    "# plot_confusion_matrix(dtree_model, X_test, dtree_predictions, cmap='Blues')\n",
    "disp = ConfusionMatrixDisplay(confusion_matrix=cm,\n",
    "                              display_labels=rf_model.classes_, \n",
    "                              )\n",
    "\n",
    "fig, ax = plt.subplots(figsize=(8, 8))\n",
    "disp.plot(ax=ax, cmap='Blues', xticks_rotation='vertical')"
   ]
  },
  {
   "cell_type": "code",
   "execution_count": 16,
   "id": "dd024b6f",
   "metadata": {},
   "outputs": [
    {
     "data": {
      "text/plain": [
       "[['1 ROOM', 28, 0, 0],\n",
       " ['2 ROOM', 637, 4, 6],\n",
       " ['3 ROOM', 13331, 75, 70],\n",
       " ['4 ROOM', 21407, 71, 100],\n",
       " ['5 ROOM', 12771, 101, 21],\n",
       " ['EXECUTIVE', 4080, 15, 69],\n",
       " ['MULTI-GENERATION', 25, 0, 0]]"
      ]
     },
     "execution_count": 16,
     "metadata": {},
     "output_type": "execute_result"
    }
   ],
   "source": [
    "data = compute(cm, rf_model.classes_)\n",
    "data"
   ]
  },
  {
   "cell_type": "code",
   "execution_count": 17,
   "id": "c5eda3d3",
   "metadata": {},
   "outputs": [
    {
     "data": {
      "text/html": [
       "<div>\n",
       "<style scoped>\n",
       "    .dataframe tbody tr th:only-of-type {\n",
       "        vertical-align: middle;\n",
       "    }\n",
       "\n",
       "    .dataframe tbody tr th {\n",
       "        vertical-align: top;\n",
       "    }\n",
       "\n",
       "    .dataframe thead th {\n",
       "        text-align: right;\n",
       "    }\n",
       "</style>\n",
       "<table border=\"1\" class=\"dataframe\">\n",
       "  <thead>\n",
       "    <tr style=\"text-align: right;\">\n",
       "      <th></th>\n",
       "      <th>tp</th>\n",
       "      <th>fp</th>\n",
       "      <th>fn</th>\n",
       "      <th>acc</th>\n",
       "      <th>recall</th>\n",
       "      <th>prec</th>\n",
       "      <th>f1</th>\n",
       "    </tr>\n",
       "    <tr>\n",
       "      <th>flat_type</th>\n",
       "      <th></th>\n",
       "      <th></th>\n",
       "      <th></th>\n",
       "      <th></th>\n",
       "      <th></th>\n",
       "      <th></th>\n",
       "      <th></th>\n",
       "    </tr>\n",
       "  </thead>\n",
       "  <tbody>\n",
       "    <tr>\n",
       "      <th>1 ROOM</th>\n",
       "      <td>28</td>\n",
       "      <td>0</td>\n",
       "      <td>0</td>\n",
       "      <td>1.000000</td>\n",
       "      <td>1.000000</td>\n",
       "      <td>1.000000</td>\n",
       "      <td>1.000000</td>\n",
       "    </tr>\n",
       "    <tr>\n",
       "      <th>2 ROOM</th>\n",
       "      <td>637</td>\n",
       "      <td>4</td>\n",
       "      <td>6</td>\n",
       "      <td>0.984544</td>\n",
       "      <td>0.990669</td>\n",
       "      <td>0.993760</td>\n",
       "      <td>0.992212</td>\n",
       "    </tr>\n",
       "    <tr>\n",
       "      <th>3 ROOM</th>\n",
       "      <td>13331</td>\n",
       "      <td>75</td>\n",
       "      <td>70</td>\n",
       "      <td>0.989240</td>\n",
       "      <td>0.994777</td>\n",
       "      <td>0.994405</td>\n",
       "      <td>0.994591</td>\n",
       "    </tr>\n",
       "    <tr>\n",
       "      <th>4 ROOM</th>\n",
       "      <td>21407</td>\n",
       "      <td>71</td>\n",
       "      <td>100</td>\n",
       "      <td>0.992075</td>\n",
       "      <td>0.995350</td>\n",
       "      <td>0.996694</td>\n",
       "      <td>0.996022</td>\n",
       "    </tr>\n",
       "    <tr>\n",
       "      <th>5 ROOM</th>\n",
       "      <td>12771</td>\n",
       "      <td>101</td>\n",
       "      <td>21</td>\n",
       "      <td>0.990538</td>\n",
       "      <td>0.998358</td>\n",
       "      <td>0.992154</td>\n",
       "      <td>0.995246</td>\n",
       "    </tr>\n",
       "    <tr>\n",
       "      <th>EXECUTIVE</th>\n",
       "      <td>4080</td>\n",
       "      <td>15</td>\n",
       "      <td>69</td>\n",
       "      <td>0.979827</td>\n",
       "      <td>0.983369</td>\n",
       "      <td>0.996337</td>\n",
       "      <td>0.989811</td>\n",
       "    </tr>\n",
       "    <tr>\n",
       "      <th>MULTI-GENERATION</th>\n",
       "      <td>25</td>\n",
       "      <td>0</td>\n",
       "      <td>0</td>\n",
       "      <td>1.000000</td>\n",
       "      <td>1.000000</td>\n",
       "      <td>1.000000</td>\n",
       "      <td>1.000000</td>\n",
       "    </tr>\n",
       "  </tbody>\n",
       "</table>\n",
       "</div>"
      ],
      "text/plain": [
       "                     tp   fp   fn       acc    recall      prec        f1\n",
       "flat_type                                                                \n",
       "1 ROOM               28    0    0  1.000000  1.000000  1.000000  1.000000\n",
       "2 ROOM              637    4    6  0.984544  0.990669  0.993760  0.992212\n",
       "3 ROOM            13331   75   70  0.989240  0.994777  0.994405  0.994591\n",
       "4 ROOM            21407   71  100  0.992075  0.995350  0.996694  0.996022\n",
       "5 ROOM            12771  101   21  0.990538  0.998358  0.992154  0.995246\n",
       "EXECUTIVE          4080   15   69  0.979827  0.983369  0.996337  0.989811\n",
       "MULTI-GENERATION     25    0    0  1.000000  1.000000  1.000000  1.000000"
      ]
     },
     "execution_count": 17,
     "metadata": {},
     "output_type": "execute_result"
    }
   ],
   "source": [
    "metrics_df = pd.DataFrame(data, columns=cols)\n",
    "compute_metrics(metrics_df)\n",
    "metrics_df.set_index('flat_type')"
   ]
  },
  {
   "cell_type": "code",
   "execution_count": 18,
   "id": "654af7e2",
   "metadata": {},
   "outputs": [
    {
     "name": "stdout",
     "output_type": "stream",
     "text": [
      "                  precision    recall  f1-score   support\n",
      "\n",
      "          1 ROOM       1.00      1.00      1.00        28\n",
      "          2 ROOM       0.99      0.99      0.99       643\n",
      "          3 ROOM       0.99      0.99      0.99     13401\n",
      "          4 ROOM       1.00      1.00      1.00     21507\n",
      "          5 ROOM       0.99      1.00      1.00     12792\n",
      "       EXECUTIVE       1.00      0.98      0.99      4149\n",
      "MULTI-GENERATION       1.00      1.00      1.00        25\n",
      "\n",
      "        accuracy                           0.99     52545\n",
      "       macro avg       1.00      0.99      1.00     52545\n",
      "    weighted avg       0.99      0.99      0.99     52545\n",
      "\n"
     ]
    }
   ],
   "source": [
    "print(classification_report(y_test, rf_predictions, target_names=rf_model.classes_))"
   ]
  },
  {
   "cell_type": "code",
   "execution_count": 19,
   "id": "7570140a",
   "metadata": {},
   "outputs": [
    {
     "name": "stdout",
     "output_type": "stream",
     "text": [
      "Time taken is 0.25\n"
     ]
    }
   ],
   "source": [
    "from sklearn.neighbors import KNeighborsClassifier\n",
    "# knn_model = KNeighborsClassifier(n_neighbors=5).fit(X_train, y_train)\n",
    "\n",
    "knn_model = Pipeline(\n",
    "    steps=[(\"preprocessor\", preprocessor), (\"classifier\", KNeighborsClassifier(n_neighbors=5))]\n",
    ")\n",
    "\n",
    "start = time.time()\n",
    "knn_model.fit(X_train, y_train)\n",
    "end = time.time()\n",
    "knn_fit_time = end - start\n",
    "print('Time taken is %.2f' % knn_fit_time)"
   ]
  },
  {
   "cell_type": "code",
   "execution_count": 20,
   "id": "ac9901ad",
   "metadata": {},
   "outputs": [
    {
     "data": {
      "text/plain": [
       "<sklearn.metrics._plot.confusion_matrix.ConfusionMatrixDisplay at 0x7fe1686de310>"
      ]
     },
     "execution_count": 20,
     "metadata": {},
     "output_type": "execute_result"
    },
    {
     "data": {
      "image/png": "[encoded data removed]",
      "text/plain": [
       "<Figure size 576x576 with 2 Axes>"
      ]
     },
     "metadata": {
      "needs_background": "light"
     },
     "output_type": "display_data"
    }
   ],
   "source": [
    "knn_predictions = knn_model.predict(X_test)\n",
    "\n",
    "# creating a confusion matrix\n",
    "# actual is row, predict is columns\n",
    "# tn, fp, fn, tp\n",
    "cm = confusion_matrix(y_test, knn_predictions)\n",
    "# from sklearn.metrics import plot_confusion_matrix, ConfusionMatrixDisplay\n",
    "# plot_confusion_matrix(dtree_model, X_test, dtree_predictions, cmap='Blues')\n",
    "disp = ConfusionMatrixDisplay(confusion_matrix=cm,\n",
    "                              display_labels=knn_model.classes_, \n",
    "                              )\n",
    "\n",
    "fig, ax = plt.subplots(figsize=(8, 8))\n",
    "disp.plot(ax=ax, cmap='Blues', xticks_rotation='vertical')\n",
    "# disp.xticks(rotation=90)"
   ]
  },
  {
   "cell_type": "code",
   "execution_count": 21,
   "id": "83b8f056",
   "metadata": {},
   "outputs": [
    {
     "data": {
      "text/plain": [
       "[['1 ROOM', 28, 0, 0],\n",
       " ['2 ROOM', 637, 4, 6],\n",
       " ['3 ROOM', 13327, 78, 74],\n",
       " ['4 ROOM', 21406, 82, 101],\n",
       " ['5 ROOM', 12764, 99, 28],\n",
       " ['EXECUTIVE', 4080, 15, 69],\n",
       " ['MULTI-GENERATION', 25, 0, 0]]"
      ]
     },
     "execution_count": 21,
     "metadata": {},
     "output_type": "execute_result"
    }
   ],
   "source": [
    "data = compute(cm, knn_model.classes_)\n",
    "data"
   ]
  },
  {
   "cell_type": "code",
   "execution_count": 22,
   "id": "9355cbc5",
   "metadata": {},
   "outputs": [
    {
     "data": {
      "text/html": [
       "<div>\n",
       "<style scoped>\n",
       "    .dataframe tbody tr th:only-of-type {\n",
       "        vertical-align: middle;\n",
       "    }\n",
       "\n",
       "    .dataframe tbody tr th {\n",
       "        vertical-align: top;\n",
       "    }\n",
       "\n",
       "    .dataframe thead th {\n",
       "        text-align: right;\n",
       "    }\n",
       "</style>\n",
       "<table border=\"1\" class=\"dataframe\">\n",
       "  <thead>\n",
       "    <tr style=\"text-align: right;\">\n",
       "      <th></th>\n",
       "      <th>tp</th>\n",
       "      <th>fp</th>\n",
       "      <th>fn</th>\n",
       "      <th>acc</th>\n",
       "      <th>recall</th>\n",
       "      <th>prec</th>\n",
       "      <th>f1</th>\n",
       "    </tr>\n",
       "    <tr>\n",
       "      <th>flat_type</th>\n",
       "      <th></th>\n",
       "      <th></th>\n",
       "      <th></th>\n",
       "      <th></th>\n",
       "      <th></th>\n",
       "      <th></th>\n",
       "      <th></th>\n",
       "    </tr>\n",
       "  </thead>\n",
       "  <tbody>\n",
       "    <tr>\n",
       "      <th>1 ROOM</th>\n",
       "      <td>28</td>\n",
       "      <td>0</td>\n",
       "      <td>0</td>\n",
       "      <td>1.000000</td>\n",
       "      <td>1.000000</td>\n",
       "      <td>1.000000</td>\n",
       "      <td>1.000000</td>\n",
       "    </tr>\n",
       "    <tr>\n",
       "      <th>2 ROOM</th>\n",
       "      <td>637</td>\n",
       "      <td>4</td>\n",
       "      <td>6</td>\n",
       "      <td>0.984544</td>\n",
       "      <td>0.990669</td>\n",
       "      <td>0.993760</td>\n",
       "      <td>0.992212</td>\n",
       "    </tr>\n",
       "    <tr>\n",
       "      <th>3 ROOM</th>\n",
       "      <td>13327</td>\n",
       "      <td>78</td>\n",
       "      <td>74</td>\n",
       "      <td>0.988723</td>\n",
       "      <td>0.994478</td>\n",
       "      <td>0.994181</td>\n",
       "      <td>0.994330</td>\n",
       "    </tr>\n",
       "    <tr>\n",
       "      <th>4 ROOM</th>\n",
       "      <td>21406</td>\n",
       "      <td>82</td>\n",
       "      <td>101</td>\n",
       "      <td>0.991523</td>\n",
       "      <td>0.995304</td>\n",
       "      <td>0.996184</td>\n",
       "      <td>0.995744</td>\n",
       "    </tr>\n",
       "    <tr>\n",
       "      <th>5 ROOM</th>\n",
       "      <td>12764</td>\n",
       "      <td>99</td>\n",
       "      <td>28</td>\n",
       "      <td>0.990148</td>\n",
       "      <td>0.997811</td>\n",
       "      <td>0.992304</td>\n",
       "      <td>0.995050</td>\n",
       "    </tr>\n",
       "    <tr>\n",
       "      <th>EXECUTIVE</th>\n",
       "      <td>4080</td>\n",
       "      <td>15</td>\n",
       "      <td>69</td>\n",
       "      <td>0.979827</td>\n",
       "      <td>0.983369</td>\n",
       "      <td>0.996337</td>\n",
       "      <td>0.989811</td>\n",
       "    </tr>\n",
       "    <tr>\n",
       "      <th>MULTI-GENERATION</th>\n",
       "      <td>25</td>\n",
       "      <td>0</td>\n",
       "      <td>0</td>\n",
       "      <td>1.000000</td>\n",
       "      <td>1.000000</td>\n",
       "      <td>1.000000</td>\n",
       "      <td>1.000000</td>\n",
       "    </tr>\n",
       "  </tbody>\n",
       "</table>\n",
       "</div>"
      ],
      "text/plain": [
       "                     tp  fp   fn       acc    recall      prec        f1\n",
       "flat_type                                                               \n",
       "1 ROOM               28   0    0  1.000000  1.000000  1.000000  1.000000\n",
       "2 ROOM              637   4    6  0.984544  0.990669  0.993760  0.992212\n",
       "3 ROOM            13327  78   74  0.988723  0.994478  0.994181  0.994330\n",
       "4 ROOM            21406  82  101  0.991523  0.995304  0.996184  0.995744\n",
       "5 ROOM            12764  99   28  0.990148  0.997811  0.992304  0.995050\n",
       "EXECUTIVE          4080  15   69  0.979827  0.983369  0.996337  0.989811\n",
       "MULTI-GENERATION     25   0    0  1.000000  1.000000  1.000000  1.000000"
      ]
     },
     "execution_count": 22,
     "metadata": {},
     "output_type": "execute_result"
    }
   ],
   "source": [
    "metrics_df = pd.DataFrame(data, columns=cols)\n",
    "compute_metrics(metrics_df)\n",
    "metrics_df.set_index('flat_type')"
   ]
  },
  {
   "cell_type": "code",
   "execution_count": 23,
   "id": "80cb60d4",
   "metadata": {},
   "outputs": [
    {
     "name": "stdout",
     "output_type": "stream",
     "text": [
      "                  precision    recall  f1-score   support\n",
      "\n",
      "          1 ROOM       1.00      1.00      1.00        28\n",
      "          2 ROOM       0.99      0.99      0.99       643\n",
      "          3 ROOM       0.99      0.99      0.99     13401\n",
      "          4 ROOM       1.00      1.00      1.00     21507\n",
      "          5 ROOM       0.99      1.00      1.00     12792\n",
      "       EXECUTIVE       1.00      0.98      0.99      4149\n",
      "MULTI-GENERATION       1.00      1.00      1.00        25\n",
      "\n",
      "        accuracy                           0.99     52545\n",
      "       macro avg       1.00      0.99      1.00     52545\n",
      "    weighted avg       0.99      0.99      0.99     52545\n",
      "\n"
     ]
    }
   ],
   "source": [
    "print(classification_report(y_test, knn_predictions, target_names=knn_model.classes_))"
   ]
  },
  {
   "cell_type": "code",
   "execution_count": 24,
   "id": "e0c59525",
   "metadata": {},
   "outputs": [
    {
     "name": "stdout",
     "output_type": "stream",
     "text": [
      "<class 'pandas.core.frame.DataFrame'>\n",
      "RangeIndex: 210180 entries, 0 to 210179\n",
      "Data columns (total 24 columns):\n",
      " #   Column                   Non-Null Count   Dtype  \n",
      "---  ------                   --------------   -----  \n",
      " 0   date                     210180 non-null  object \n",
      " 1   town                     210180 non-null  object \n",
      " 2   flat_type                210180 non-null  object \n",
      " 3   block                    210180 non-null  object \n",
      " 4   street_name              210180 non-null  object \n",
      " 5   storey_range             210180 non-null  object \n",
      " 6   floor_area_sqm           210180 non-null  float64\n",
      " 7   flat_model               210180 non-null  object \n",
      " 8   lease_commence_date      210180 non-null  int64  \n",
      " 9   resale_price             210180 non-null  float64\n",
      " 10  year                     210180 non-null  int64  \n",
      " 11  month                    210180 non-null  int64  \n",
      " 12  longitude                210180 non-null  float64\n",
      " 13  latitude                 210180 non-null  float64\n",
      " 14  nearest_dist_to_mrt      210180 non-null  float64\n",
      " 15  nearest_mrt              210180 non-null  object \n",
      " 16  nearest_dist_to_pri_sch  210180 non-null  float64\n",
      " 17  nearest_pri_sch          210180 non-null  object \n",
      " 18  nearest_dist_to_sec_sch  210180 non-null  float64\n",
      " 19  nearest_sec_sch          210180 non-null  object \n",
      " 20  age                      210180 non-null  int64  \n",
      " 21  avg_floor                210180 non-null  int64  \n",
      " 22  inflated_rate            210180 non-null  float64\n",
      " 23  inflated_resale_price    210180 non-null  float64\n",
      "dtypes: float64(9), int64(5), object(10)\n",
      "memory usage: 38.5+ MB\n"
     ]
    }
   ],
   "source": [
    "data_df.info()"
   ]
  },
  {
   "cell_type": "code",
   "execution_count": 25,
   "id": "7eb29e00",
   "metadata": {},
   "outputs": [],
   "source": [
    "data_df['flat_type'] = data_df['flat_type'].map({'1 ROOM': 1, '2 ROOM': 2, '3 ROOM': 3, \\\n",
    "                                                 '4 ROOM': 4, '5 ROOM': 5, 'EXECUTIVE': 6, \\\n",
    "                                                 'MULTI-GENERATION': 7})"
   ]
  },
  {
   "cell_type": "code",
   "execution_count": 26,
   "id": "f42d4d03",
   "metadata": {},
   "outputs": [],
   "source": [
    "my_order = list(data_df['flat_type'].value_counts().index.sort_values())"
   ]
  },
  {
   "cell_type": "code",
   "execution_count": 27,
   "id": "984ee6e4",
   "metadata": {},
   "outputs": [
    {
     "data": {
      "text/plain": [
       "Int64Index([4, 3, 5, 6, 2, 1, 7], dtype='int64')"
      ]
     },
     "execution_count": 27,
     "metadata": {},
     "output_type": "execute_result"
    }
   ],
   "source": [
    "data_df['flat_type'].value_counts().index"
   ]
  },
  {
   "cell_type": "code",
   "execution_count": 28,
   "id": "1d069b71",
   "metadata": {},
   "outputs": [
    {
     "data": {
      "image/png": "[encoded data removed]",
      "text/plain": [
       "<Figure size 720x576 with 1 Axes>"
      ]
     },
     "metadata": {
      "needs_background": "light"
     },
     "output_type": "display_data"
    }
   ],
   "source": [
    "plt.figure(figsize=(10, 8))\n",
    "sp = sns.scatterplot(data=data_df, x=\"flat_type\", y=\"floor_area_sqm\", hue='flat_model', palette=\"tab20\", s=100)\n",
    "sp.set_title('Flat Type vs Area of HDB Flat', fontsize='16', fontweight='bold')\n",
    "sp.set_xlabel('Flat Type', fontweight='bold')\n",
    "sp.set_ylabel('Flat area (sqm)', fontweight='bold')\n",
    "sp.legend(ncol=1, bbox_to_anchor=(0.3, 1), fontsize='7', title='flat_model');"
   ]
  },
  {
   "cell_type": "markdown",
   "id": "c0e95d64",
   "metadata": {},
   "source": [
    "### Conclusion\n",
    "\n",
    "Answer to Question 2C:\n",
    "The KNN classification model was chosen for predicting the flat type of HDB flat using features like the size of the flat as well as the flat model. This model can achieve a considerably high f1 score among the different flat type (classes) and it also takes less than 1 sec to fit the training dataset. The classes of flat type were converted to numerical numbers so that we can do a scatterplot with flat model as the catogorical feature and we can see that the size of the flat along with the flat type can help to predict the flat type."
   ]
  },
  {
   "cell_type": "code",
   "execution_count": null,
   "id": "2490db81",
   "metadata": {},
   "outputs": [],
   "source": []
  }
 ],
 "metadata": {
  "kernelspec": {
   "display_name": "Python 3",
   "language": "python",
   "name": "python3"
  },
  "language_info": {
   "codemirror_mode": {
    "name": "ipython",
    "version": 3
   },
   "file_extension": ".py",
   "mimetype": "text/x-python",
   "name": "python",
   "nbconvert_exporter": "python",
   "pygments_lexer": "ipython3",
   "version": "3.8.8"
  },
  "toc": {
   "base_numbering": 1,
   "nav_menu": {},
   "number_sections": true,
   "sideBar": true,
   "skip_h1_title": true,
   "title_cell": "Table of Contents",
   "title_sidebar": "Contents",
   "toc_cell": false,
   "toc_position": {},
   "toc_section_display": true,
   "toc_window_display": true
  }
 },
 "nbformat": 4,
 "nbformat_minor": 5
}
